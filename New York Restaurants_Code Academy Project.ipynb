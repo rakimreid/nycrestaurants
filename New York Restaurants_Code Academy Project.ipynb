{
 "cells": [
  {
   "cell_type": "code",
   "execution_count": null,
   "id": "fcbb3953-e9f8-4594-9bfa-3113726d1728",
   "metadata": {},
   "outputs": [],
   "source": [
    "\"\"\" New York Restaurants\n",
    "We have put together a table of restaurants called nomnom and we need your help to answer some questions. Use the SQL commands you just learned and find the best dinner spots in the city.\n",
    "\n",
    "The schema of this table is available here: https://content.codecademy.com/courses/sql-intensive/nomnom.png?_gl=1*hsjzte*_ga*OTUyNjIzODg2OS4xNjc1MDM4MTAw*_ga_3LRZM6TM9L*MTY3NTM2OTE5OC40LjEuMTY3NTM2OTI0Ni4xMi4wLjA.\n",
    "\"\"\""
   ]
  },
  {
   "cell_type": "code",
   "execution_count": null,
   "id": "c2ff370d-111a-4fe0-857e-a585401fd27a",
   "metadata": {},
   "outputs": [],
   "source": [
    "-- Q1: What are the column names for the nomnom table?\n",
    "SELECT * \n",
    "FROM nomnom;\n",
    "name, neighborhood, cuisine, review, price, health\n"
   ]
  },
  {
   "cell_type": "code",
   "execution_count": null,
   "id": "79f5c0b7-9caf-4964-8c16-c2b5c9331019",
   "metadata": {},
   "outputs": [],
   "source": [
    "-- Q2: What are the distinct neighborhoods?\n",
    "SELECT DISTINCT neighborhood\n",
    "FROM nomnom;\n",
    "name, neighborhood, cuisine, review, price, health\n"
   ]
  },
  {
   "cell_type": "code",
   "execution_count": null,
   "id": "ddcec6b9-1f56-4799-8412-a14c900e45cf",
   "metadata": {},
   "outputs": [],
   "source": [
    "-- Q3: What are the distinct cuisine types? \n",
    "SELECT DISTINCT cuisine\n",
    "FROM nomnom;\n",
    "-- Steak, Korean, Chinese, Pizza, Ethiopian, Vegetarian, Italian, Japanese, American, Mediterranean, Indian, Soul Food, Mexican\n"
   ]
  },
  {
   "cell_type": "code",
   "execution_count": null,
   "id": "40ea4867-5abf-40f8-86be-19145a50e726",
   "metadata": {},
   "outputs": [],
   "source": [
    "-- Q4: Suppose we would like some Chinese takeout. What are out options? \n",
    "\n",
    "SELECT *\n",
    "FROM nomnom\n",
    "WHERE cuisine = 'Chinese';\n"
   ]
  },
  {
   "cell_type": "code",
   "execution_count": null,
   "id": "90a08fba-f5bf-4e33-8558-3ea8968dcfe9",
   "metadata": {},
   "outputs": [],
   "source": [
    "-- Q5: Return all the restaurants with reviews of 4 and above.\n",
    "\n",
    "SELECT *\n",
    "FROM nomnom\n",
    "WHERE review >= 4;\n"
   ]
  },
  {
   "cell_type": "code",
   "execution_count": null,
   "id": "6c3da7fd-c7d7-4031-b75f-6aa8483cbb96",
   "metadata": {},
   "outputs": [],
   "source": [
    "-- Q6: Suppose Abbi and Ilana want to have a fancy dinner date. Return all the restaurants that are Italian and $$$.\n",
    "\n",
    "SELECT *\n",
    "FROM nomnom\n",
    "WHERE cuisine = 'Italian'\n",
    "   AND price = '$$$';\n"
   ]
  },
  {
   "cell_type": "code",
   "execution_count": null,
   "id": "0aaa34af-3445-4133-a363-cfee21b2651a",
   "metadata": {},
   "outputs": [],
   "source": [
    "-- Q7: % is a wildcard character that matches zero or more missing letters in the pattern. To find the restaurant names that contain the word ‘meatball’:\n",
    "\n",
    "SELECT *\n",
    "FROM nomnom\n",
    "WHERE name LIKE '%meatball%';\n"
   ]
  },
  {
   "cell_type": "code",
   "execution_count": null,
   "id": "63dcde2e-008a-487c-a6be-c91ec6f234ee",
   "metadata": {},
   "outputs": [],
   "source": [
    "-- Q8: Let’s order delivery to the house!\n",
    "\n",
    "-- Find all the close by spots in Midtown, Downtown or Chinatown.\n",
    "SELECT *\n",
    "FROM nomnom\n",
    "WHERE neighborhood = 'Midtown'\n",
    "   OR neighborhood = 'Downtown'\n",
    "   OR neighborhood = 'Chinatown';\n"
   ]
  },
  {
   "cell_type": "code",
   "execution_count": null,
   "id": "19dd6a5f-97a4-45d4-bd20-7320156fd0aa",
   "metadata": {},
   "outputs": [],
   "source": [
    "-- Q9: Find all the health grade pending restaurants (empty values).\n",
    "SELECT *\n",
    "FROM nomnom\n",
    "WHERE health IS NULL;\n"
   ]
  },
  {
   "cell_type": "code",
   "execution_count": null,
   "id": "f035459b-3b06-42f3-a91a-8d6548cd7780",
   "metadata": {},
   "outputs": [],
   "source": [
    "-- Q10: Create a Top 10 Restaurants Ranking based on reviews.\n",
    "\n",
    "SELECT BY *\n",
    "FROM nomnom\n",
    "ORDER BY review DESC \n",
    "LIMIT 10;\n"
   ]
  },
  {
   "cell_type": "code",
   "execution_count": null,
   "id": "ac435870-1aab-4c3c-971b-6fa35cd7b7fb",
   "metadata": {},
   "outputs": [],
   "source": [
    "-- Q11: Use a CASE statement to change the rating system to:\n",
    "-- review > 4.5 is Extraordinary\n",
    "-- review > 4 is Excellent\n",
    "-- review > 3 is Good\n",
    "-- review > 2 is Fair\n",
    "-- Everything else is Poor\n",
    "\n",
    "SELECT name \n",
    "CASE \n",
    "WHEN review > 4.5 THEN\n",
    "  \"Extraordinary\"\n",
    "WHEN review > 4 THEN \n",
    "  \"Excellent\"\n",
    "WHEN review > 3 THEN \n",
    "\"Good\"\n",
    "WHEN review > 2 THEN \n",
    "\"Fair\"\n",
    "ELSE \n",
    "  \"Poor\"\n",
    "  End as \"Review\"'\n",
    "FROM nomnom;\n"
   ]
  }
 ],
 "metadata": {
  "kernelspec": {
   "display_name": "Python 3 (ipykernel)",
   "language": "python",
   "name": "python3"
  },
  "language_info": {
   "codemirror_mode": {
    "name": "ipython",
    "version": 3
   },
   "file_extension": ".py",
   "mimetype": "text/x-python",
   "name": "python",
   "nbconvert_exporter": "python",
   "pygments_lexer": "ipython3",
   "version": "3.9.13"
  }
 },
 "nbformat": 4,
 "nbformat_minor": 5
}
